{
 "cells": [
  {
   "cell_type": "code",
   "execution_count": 1,
   "metadata": {},
   "outputs": [],
   "source": [
    "import torch.nn as nn\n",
    "import torch   \n",
    "import spacy\n",
    "from torchtext import data \n",
    "import pandas as pd\n",
    "import re\n",
    "import random\n",
    "import torch.optim as optim\n",
    "\n",
    "nlp = spacy.load('en')\n"
   ]
  },
  {
   "cell_type": "code",
   "execution_count": 2,
   "metadata": {},
   "outputs": [
    {
     "name": "stdout",
     "output_type": "stream",
     "text": [
      "157049\n",
      "81627\n"
     ]
    }
   ],
   "source": [
    "df = pd.read_csv('data_maxrep.csv')\n",
    "\n",
    "df = df.rename(columns={ df.columns[0]: \"site\", df.columns[1] : 'dutch', df.columns[2] : 'lang' })\n",
    "df.loc[df.dutch == True,'dutch']= 1\n",
    "df.loc[df.dutch == False,'dutch']= 0\n",
    "\n",
    "df = df.drop(['lang'], axis=1)\n",
    "df = df.astype({'site': 'string', 'dutch': 'int32'})\n",
    "\n",
    "print(len(df['dutch']))\n",
    "print(df['dutch'].sum())\n",
    "\n",
    "def preprocess(x):\n",
    "    x = x.replace('https://www.', '')\n",
    "    x = x.replace('http://www.', '')\n",
    "    x = x.replace('http://', '')\n",
    "    x = x.replace('https://', '')\n",
    "\n",
    "    x = x.replace('.php', '')\n",
    "    x = x.replace('.json', '')\n",
    "    x = x.replace('.html', '')\n",
    "    x = x.replace('.htm', '')\n",
    "    x = x.replace('1', '')\n",
    "    x = x.replace('2', '')\n",
    "    x = x.replace('3', '')\n",
    "    x = x.replace('4', '')\n",
    "    x = x.replace('5', '')\n",
    "    x = x.replace('6', '')\n",
    "    x = x.replace('7', '')\n",
    "    x = x.replace('8', '')\n",
    "    x = x.replace('9', '')\n",
    "    x = x.replace('%', '')\n",
    "    x =  re.split('[/\\=\\-_?\\.&\\+]', x) \n",
    "    return ' '.join([i for i in x if not i.isdigit() and len(i) > 1])\n",
    "\n",
    "df['site'] = df['site'].apply(preprocess)\n",
    "\n",
    "df.to_csv('train.csv', index=False)\n"
   ]
  },
  {
   "cell_type": "code",
   "execution_count": 3,
   "metadata": {},
   "outputs": [
    {
     "name": "stderr",
     "output_type": "stream",
     "text": [
      "/home/ruben/Documents/school/Master 1/information retrieval/ir/lib/python3.8/site-packages/torchtext/data/field.py:150: UserWarning: Field class will be retired soon and moved to torchtext.legacy. Please see the most recent release notes for further information.\n",
      "  warnings.warn('{} class will be retired soon and moved to torchtext.legacy. Please see the most recent release notes for further information.'.format(self.__class__.__name__), UserWarning)\n",
      "/home/ruben/Documents/school/Master 1/information retrieval/ir/lib/python3.8/site-packages/torchtext/data/field.py:150: UserWarning: LabelField class will be retired soon and moved to torchtext.legacy. Please see the most recent release notes for further information.\n",
      "  warnings.warn('{} class will be retired soon and moved to torchtext.legacy. Please see the most recent release notes for further information.'.format(self.__class__.__name__), UserWarning)\n"
     ]
    }
   ],
   "source": [
    "TEXT = data.Field(tokenize='spacy', batch_first=True, include_lengths=True)\n",
    "LABEL = data.LabelField(dtype = torch.float, batch_first=True)"
   ]
  },
  {
   "cell_type": "code",
   "execution_count": 4,
   "metadata": {},
   "outputs": [],
   "source": [
    "fields = [('text',TEXT),('label', LABEL)]"
   ]
  },
  {
   "cell_type": "code",
   "execution_count": 5,
   "metadata": {},
   "outputs": [
    {
     "name": "stderr",
     "output_type": "stream",
     "text": [
      "/home/ruben/Documents/school/Master 1/information retrieval/ir/lib/python3.8/site-packages/torchtext/data/example.py:68: UserWarning: Example class will be retired soon and moved to torchtext.legacy. Please see the most recent release notes for further information.\n",
      "  warnings.warn('Example class will be retired soon and moved to torchtext.legacy. Please see the most recent release notes for further information.', UserWarning)\n",
      "/home/ruben/Documents/school/Master 1/information retrieval/ir/lib/python3.8/site-packages/torchtext/data/example.py:78: UserWarning: Example class will be retired soon and moved to torchtext.legacy. Please see the most recent release notes for further information.\n",
      "  warnings.warn('Example class will be retired soon and moved to torchtext.legacy. Please see the most recent release notes for further information.', UserWarning)\n"
     ]
    }
   ],
   "source": [
    "training_data=data.TabularDataset(path = 'train.csv',format = 'csv',fields = fields,skip_header = True)\n",
    "train_data, valid_data = training_data.split(split_ratio=0.999, random_state = random.seed(2020)) #testing\n",
    "TEXT.build_vocab(train_data,min_freq=3,vectors = \"glove.6B.100d\")  \n",
    "LABEL.build_vocab(train_data)"
   ]
  },
  {
   "cell_type": "code",
   "execution_count": 6,
   "metadata": {},
   "outputs": [
    {
     "name": "stderr",
     "output_type": "stream",
     "text": [
      "/home/ruben/Documents/school/Master 1/information retrieval/ir/lib/python3.8/site-packages/torchtext/data/iterator.py:48: UserWarning: BucketIterator class will be retired soon and moved to torchtext.legacy. Please see the most recent release notes for further information.\n",
      "  warnings.warn('{} class will be retired soon and moved to torchtext.legacy. Please see the most recent release notes for further information.'.format(self.__class__.__name__), UserWarning)\n"
     ]
    }
   ],
   "source": [
    "device = torch.device('cuda' if torch.cuda.is_available() else 'cpu')  \n",
    "batch_size = 68\n",
    "train_iterator, valid_iterator = data.BucketIterator.splits(\n",
    "    (train_data, valid_data), batch_size = batch_size, sort_key = lambda x: len(x.text),\n",
    "    sort_within_batch=True,\n",
    "    device = device)"
   ]
  },
  {
   "cell_type": "code",
   "execution_count": 7,
   "metadata": {},
   "outputs": [],
   "source": [
    "\n",
    "class classifier(nn.Module):\n",
    "    \n",
    "    #define all the layers used in model\n",
    "    def __init__(self, vocab_size, embedding_dim, hidden, output, n_layers, \n",
    "                 bidirectional, dropout):\n",
    "        \n",
    "        super().__init__()          \n",
    "        self.embedding = nn.Embedding(vocab_size, embedding_dim)\n",
    "        self.lstm = nn.LSTM(embedding_dim, \n",
    "                           hidden, \n",
    "                           num_layers=n_layers, \n",
    "                           bidirectional=bidirectional, \n",
    "                           dropout=dropout,\n",
    "                           batch_first=True)\n",
    "\n",
    "        self.fc = nn.Linear(hidden * 2, output)\n",
    "        self.act = nn.Sigmoid()\n",
    "        \n",
    "    def forward(self, text, text_lengths):\n",
    "        embedded = self.embedding(text)\n",
    "        packed_embedded = nn.utils.rnn.pack_padded_sequence(embedded, text_lengths.cpu(),batch_first=True)\n",
    "        packed_output, (hidden, cell) = self.lstm(packed_embedded)        \n",
    "        hidden = torch.cat((hidden[-2,:,:], hidden[-1,:,:]), dim = 1)\n",
    "        fc_outputs=self.fc(hidden)\n",
    "        outputs=self.act(fc_outputs)\n",
    "        \n",
    "        return outputs"
   ]
  },
  {
   "cell_type": "code",
   "execution_count": 8,
   "metadata": {},
   "outputs": [
    {
     "data": {
      "text/plain": [
       "tensor([[0.0000, 0.0000, 0.0000,  ..., 0.0000, 0.0000, 0.0000],\n",
       "        [0.0000, 0.0000, 0.0000,  ..., 0.0000, 0.0000, 0.0000],\n",
       "        [0.2571, 0.0821, 1.0800,  ..., 0.7316, 0.1478, 0.3097],\n",
       "        ...,\n",
       "        [0.0000, 0.0000, 0.0000,  ..., 0.0000, 0.0000, 0.0000],\n",
       "        [0.0000, 0.0000, 0.0000,  ..., 0.0000, 0.0000, 0.0000],\n",
       "        [0.0000, 0.0000, 0.0000,  ..., 0.0000, 0.0000, 0.0000]])"
      ]
     },
     "execution_count": 8,
     "metadata": {},
     "output_type": "execute_result"
    }
   ],
   "source": [
    "embedding_dim = 100\n",
    "n_layers = 2\n",
    "size_of_vocab = len(TEXT.vocab)\n",
    "n_hidden = 32\n",
    "n_output = 1\n",
    "bidir = True\n",
    "dropout = 0.30 \n",
    "\n",
    "model = classifier(size_of_vocab, embedding_dim, n_hidden, n_output, n_layers, \n",
    "                   bidir, dropout = dropout)\n",
    "pretrained_embeddings = TEXT.vocab.vectors\n",
    "model.embedding.weight.data.copy_(pretrained_embeddings)"
   ]
  },
  {
   "cell_type": "code",
   "execution_count": 9,
   "metadata": {},
   "outputs": [],
   "source": [
    "criterion = nn.BCELoss()\n",
    "optimizer = optim.Adam(model.parameters())\n",
    "\n",
    "def bin_acc(preds, y):\n",
    "    rounded_preds = torch.round(preds)\n",
    "    \n",
    "    correct = (rounded_preds == y).float() \n",
    "    acc = correct.sum() / len(correct)\n",
    "    return acc\n",
    "    \n",
    "model = model.to(device)\n",
    "criterion = criterion.to(device)"
   ]
  },
  {
   "cell_type": "code",
   "execution_count": 10,
   "metadata": {},
   "outputs": [],
   "source": [
    "def train(model, iterator, optimizer, criterion):\n",
    "    epoch_loss = 0\n",
    "    epoch_acc = 0\n",
    "    model.train()  #enable dropout\n",
    "    \n",
    "    for batch in iterator:\n",
    "        optimizer.zero_grad()   \n",
    "        text, text_lengths = batch.text   \n",
    "        predictions = model(text, text_lengths).squeeze()  \n",
    "        \n",
    "        loss = criterion(predictions, batch.label)        \n",
    "        acc = bin_acc(predictions, batch.label)   \n",
    "        \n",
    "        loss.backward()       \n",
    "        optimizer.step()      \n",
    "        \n",
    "        epoch_loss += loss.item()  \n",
    "        epoch_acc += acc.item()    \n",
    "        \n",
    "    return epoch_loss / len(iterator), epoch_acc / len(iterator)"
   ]
  },
  {
   "cell_type": "code",
   "execution_count": 11,
   "metadata": {},
   "outputs": [],
   "source": [
    "def evaluate(model, iterator, criterion):\n",
    "    epoch_loss = 0\n",
    "    epoch_acc = 0\n",
    "    model.eval() #disable dropout\n",
    "    \n",
    "    with torch.no_grad(): #no gradient information needed\n",
    "        for batch in iterator:\n",
    "            text, text_lengths = batch.text\n",
    "            predictions = model(text, text_lengths).squeeze()\n",
    "            loss = criterion(predictions, batch.label)\n",
    "            acc = bin_acc(predictions, batch.label)\n",
    "            epoch_loss += loss.item()\n",
    "            epoch_acc += acc.item()\n",
    "        \n",
    "    return epoch_loss / len(iterator), epoch_acc / len(iterator)"
   ]
  },
  {
   "cell_type": "code",
   "execution_count": 12,
   "metadata": {},
   "outputs": [
    {
     "name": "stderr",
     "output_type": "stream",
     "text": [
      "/home/ruben/Documents/school/Master 1/information retrieval/ir/lib/python3.8/site-packages/torchtext/data/batch.py:23: UserWarning: Batch class will be retired soon and moved to torchtext.legacy. Please see the most recent release notes for further information.\n",
      "  warnings.warn('{} class will be retired soon and moved to torchtext.legacy. Please see the most recent release notes for further information.'.format(self.__class__.__name__), UserWarning)\n"
     ]
    },
    {
     "name": "stdout",
     "output_type": "stream",
     "text": [
      "\tTrain Loss: 0.03832245616872888 | Train Acc: 98.9179751223491%\n",
      "\t Val. Loss: 0.016305641295427147 |  Val. Acc: 99.47916666666666%\n",
      "\tTrain Loss: 0.006279908407391548 | Train Acc: 99.82348592985318%\n",
      "\t Val. Loss: 0.01315069557070577 |  Val. Acc: 99.47916666666666%\n"
     ]
    }
   ],
   "source": [
    "n_epochs = 2\n",
    "best_valid_loss = float('inf')\n",
    "\n",
    "for epoch in range(n_epochs):\n",
    "    train_loss, train_acc = train(model, train_iterator, optimizer, criterion)\n",
    "    valid_loss, valid_acc = evaluate(model, valid_iterator, criterion)\n",
    "    if valid_loss < best_valid_loss:\n",
    "        torch.save(model.state_dict(), 'test.pt')\n",
    "        best_valid_loss = valid_loss\n",
    "    \n",
    "    print(f'\\tTrain Loss: {train_loss} | Train Acc: {train_acc*100}%')\n",
    "    print(f'\\t Val. Loss: {valid_loss} |  Val. Acc: {valid_acc*100}%')"
   ]
  },
  {
   "cell_type": "code",
   "execution_count": 13,
   "metadata": {},
   "outputs": [],
   "source": [
    "path='test.pt'\n",
    "model.load_state_dict(torch.load(path))\n",
    "model.eval()\n",
    "\n",
    "def predict(model, sentence):\n",
    "    tokenized = [tok.text for tok in nlp.tokenizer(sentence)]  \n",
    "    indexed = [TEXT.vocab.stoi[t] for t in tokenized]          \n",
    "    length = [len(indexed)]                                    \n",
    "    tensor = torch.LongTensor(indexed).to(device)              \n",
    "    tensor = tensor.unsqueeze(1).T                             \n",
    "    length_tensor = torch.LongTensor(length)                   \n",
    "    prediction = model(tensor, length_tensor)                   \n",
    "    return prediction.item()                                   "
   ]
  },
  {
   "cell_type": "code",
   "execution_count": 14,
   "metadata": {},
   "outputs": [
    {
     "name": "stdout",
     "output_type": "stream",
     "text": [
      "0.0008756082388572395\n",
      "0.9998364448547363\n",
      "0.0020680183079093695\n",
      "0.9991243481636047\n",
      "0.9766124486923218\n",
      "0.8733533620834351\n",
      "0.014335500076413155\n",
      "0.007427060976624489\n",
      "0.735499382019043\n",
      "0.31978121399879456\n",
      "0.9525815844535828\n"
     ]
    }
   ],
   "source": [
    "print(predict(model, \"overheid gebouw \"))\n",
    "\n",
    "print(predict(model, \"what do you mean\"))\n",
    "\n",
    "print(predict(model, \"is dit nl of niet \"))\n",
    "\n",
    "print(predict(model, \"i think this is en\"))\n",
    "\n",
    "print(predict(model, \"gutentag mein bruder \"))\n",
    "\n",
    "print(predict(model, \"Bonne après-midi\"))\n",
    "\n",
    "print(predict(model, \"thuis kopen\"))\n",
    "\n",
    "print(predict(model, \"tuin set \"))\n",
    "\n",
    "print(predict(model, \"afhaal computer\"))\n",
    "\n",
    "print(predict(model, \"afhaal computer trots op jouw \"))\n",
    "\n",
    "print(predict(model, \"vis markt\"))"
   ]
  },
  {
   "cell_type": "code",
   "execution_count": 15,
   "metadata": {},
   "outputs": [
    {
     "name": "stdout",
     "output_type": "stream",
     "text": [
      "10583\n",
      "5229\n",
      "accuracy: 0.9602192195029765\n"
     ]
    }
   ],
   "source": [
    "df = pd.read_csv('validation_data_unique.csv')\n",
    "\n",
    "df = df.rename(columns={ df.columns[0]: \"site\", df.columns[1] : 'dutch', df.columns[2] : 'lang' })\n",
    "df.loc[df.dutch == True,'dutch']= 1\n",
    "df.loc[df.dutch == False,'dutch']= 0\n",
    "\n",
    "df = df.drop(['lang'], axis=1)\n",
    "df = df.astype({'site': 'string', 'dutch': 'int32'})\n",
    "\n",
    "print(len(df['dutch']))\n",
    "print(df['dutch'].sum())\n",
    "\n",
    "df['site'] = df['site'].apply(preprocess)\n",
    "\n",
    "sites = df['site'].tolist()\n",
    "labels = df['dutch'].tolist()\n",
    "\n",
    "tp,fp,tn,fn = 0,0,0,0\n",
    "\n",
    "correct =0 \n",
    "total = len(sites)\n",
    "for site,label in zip(sites,labels):\n",
    "    prediction = predict(model, site)\n",
    "    prediction = 0 if prediction > 0.5 else 1\n",
    "    if prediction == 0 and label == 0:\n",
    "        tp+=1\n",
    "    elif prediction == 0 and label == 1:\n",
    "        fp+=1\n",
    "    elif prediction == 1 and label == 0:\n",
    "        fn += 1\n",
    "    elif prediction == 1 and label == 1:\n",
    "        tn+=1\n",
    "    else:\n",
    "        print('error in label')\n",
    "print(f\"accuracy: {(tn+tp)/total}\")"
   ]
  },
  {
   "cell_type": "code",
   "execution_count": 16,
   "metadata": {},
   "outputs": [
    {
     "data": {
      "image/png": "[encoded data removed]",
      "text/plain": [
       "<Figure size 432x288 with 2 Axes>"
      ]
     },
     "metadata": {},
     "output_type": "display_data"
    },
    {
     "name": "stdout",
     "output_type": "stream",
     "text": [
      "precision: 0.9533174048888072\n",
      "recall: 0.9688083675756444\n",
      "f-score: 0.9610004631773968\n"
     ]
    },
    {
     "data": {
      "text/plain": [
       "<Figure size 432x288 with 0 Axes>"
      ]
     },
     "metadata": {},
     "output_type": "display_data"
    }
   ],
   "source": [
    "import seaborn as sn\n",
    "import matplotlib.pyplot as plt\n",
    "\n",
    "cm = [[tp, fp],\n",
    "      [fn, tn]]\n",
    "\n",
    "df_cm = pd.DataFrame(cm, ['dutch', 'other'], ['dutch', 'other'])\n",
    "sn.set(font_scale=1.4) # for label size\n",
    "sn.heatmap(df_cm, annot=True, fmt='g', annot_kws={\"size\": 16}) # font size\n",
    "plt.title(\"confusion matrix\")\n",
    "plt.show()\n",
    "plt.savefig('confusion_matrix.png')\n",
    "\n",
    "precision = tp/(tp+fp)\n",
    "recall = tp/(tp+fn)\n",
    "print(f'precision: {precision}')\n",
    "print(f'recall: {recall}')\n",
    "print(f'f-score: {(2*precision * recall) / (precision + recall)}')\n"
   ]
  },
  {
   "cell_type": "code",
   "execution_count": 17,
   "metadata": {},
   "outputs": [],
   "source": [
    "#getting amount of countries that the crawler crawled.\n",
    "\n",
    "# df = pd.read_csv('data_maxrep.csv')\n",
    "# countries = df.nl.unique()\n",
    "# countries = list(filter(lambda x: str(x) != 'nan', countries))\n",
    "# countries = [a.lower() for a in countries]\n",
    "# #print(countries)\n",
    "\n",
    "# countries = [a for a in countries if 'nl' not in a]\n",
    "# print(len(countries))\n",
    "# countries = [a for a in countries if 'en' not in a]\n",
    "# print(len(countries))\n",
    "# countries = [a for a in countries if 'de' not in a]\n",
    "# print(len(countries))\n",
    "# countries = [a for a in countries if 'it' not in a]\n",
    "# print(len(countries))\n",
    "# countries = [a for a in countries if 'fr' not in a]\n",
    "# print(len(countries))\n",
    "# countries = [a for a in countries if 'be' not in a]\n",
    "# print(len(countries))\n",
    "# countries = [a for a in countries if 'pl' not in a]\n",
    "# print(len(countries))\n",
    "# countries = [a for a in countries if 'zh' not in a]\n",
    "# print(len(countries))\n",
    "# countries = [a for a in countries if 'us' not in a]\n",
    "# print(len(countries))\n",
    "# countries = [a for a in countries if 'es' not in a]\n",
    "# print(len(countries))\n",
    "# countries = [a for a in countries if 'am' not in a]\n",
    "# print(len(countries))\n",
    "# countries = [a for a in countries if 'da' not in a]\n",
    "# print(len(countries))\n",
    "# countries = [a for a in countries if 'sl' not in a]\n",
    "# print(len(countries))\n",
    "# countries = [a for a in countries if 'ar' not in a]\n",
    "# print(len(countries))\n",
    "# countries = [a for a in countries if 'si' not in a]\n",
    "# print(len(countries))\n",
    "# countries = [a for a in countries if 'ti' not in a]\n",
    "# print(len(countries))\n",
    "# countries = [a for a in countries if 'ja' not in a]\n",
    "# print(len(countries))\n",
    "# countries = [a for a in countries if 'ko' not in a]\n",
    "# print(len(countries))\n",
    "# countries = [a for a in countries if 'zxx' not in a] #ignore\n",
    "# print(len(countries))\n",
    "# countries = [a for a in countries if 'pt' not in a]\n",
    "# print(len(countries))\n",
    "# countries = [a for a in countries if 'cn' not in a]\n",
    "# print(len(countries))\n",
    "# countries = [a for a in countries if 'tr' not in a]\n",
    "# print(len(countries))\n",
    "# countries = [a for a in countries if 'cs' not in a]\n",
    "# print(len(countries))\n",
    "# countries = [a for a in countries if 'ca' not in a]\n",
    "# print(len(countries))\n",
    "# countries = [a for a in countries if 'el' not in a]\n",
    "# print(len(countries))\n",
    "# countries = [a for a in countries if 'gs' not in a]\n",
    "# print(len(countries))\n",
    "# countries = [a for a in countries if 'yo' not in a]\n",
    "# print(len(countries))\n",
    "# countries = [a for a in countries if 'wu' not in a] #ignore\n",
    "# print(len(countries))\n",
    "# countries = [a for a in countries if 'my' not in a]\n",
    "# print(len(countries))\n",
    "# countries = [a for a in countries if 'yue' not in a] #ignore\n",
    "# print(len(countries))\n",
    "# countries = [a for a in countries if 'ur' not in a]\n",
    "# print(len(countries))\n",
    "# countries = [a for a in countries if 'zu' not in a]\n",
    "# print(len(countries))\n",
    "# countries = [a for a in countries if 'et' not in a]\n",
    "# print(len(countries))\n",
    "# countries = [a for a in countries if 'mt' not in a]\n",
    "# print(len(countries))\n",
    "# countries = [a for a in countries if 'ml' not in a]\n",
    "# print(len(countries))\n",
    "# countries = [a for a in countries if 'uk' not in a] #ignore\n",
    "# print(len(countries))\n",
    "# countries = [a for a in countries if 'ru' not in a]\n",
    "# print(len(countries))\n",
    "# countries = [a for a in countries if 'ug' not in a]\n",
    "# print(len(countries))\n",
    "# countries = [a for a in countries if 'mn' not in a]\n",
    "# print(len(countries))\n",
    "# countries = [a for a in countries if 'sn' not in a]\n",
    "# print(len(countries))\n",
    "# countries = [a for a in countries if 'he' not in a]\n",
    "# print(len(countries))\n",
    "# countries = [a for a in countries if 'af' not in a]\n",
    "# print(len(countries))\n",
    "# countries = [a for a in countries if 'bg' not in a]\n",
    "# print(len(countries))\n",
    "# countries = [a for a in countries if 'fa' not in a]\n",
    "# print(len(countries))\n",
    "# countries = [a for a in countries if 'bho' not in a]\n",
    "# print(len(countries))\n",
    "# countries = [a for a in countries if 'xmf' not in a]\n",
    "# print(len(countries))\n",
    "# countries = [a for a in countries if 'mk' not in a]\n",
    "# print(len(countries))\n",
    "# countries = [a for a in countries if 'vi' not in a]\n",
    "# print(len(countries))\n",
    "# countries = [a for a in countries if 'sr' not in a]\n",
    "# print(len(countries))\n",
    "# countries = [a for a in countries if 'cy' not in a]\n",
    "# print(len(countries))\n",
    "# countries = [a for a in countries if 'zea' not in a]\n",
    "# print(len(countries))\n",
    "# countries = [a for a in countries if 'za' not in a]\n",
    "# print(len(countries))\n",
    "# countries = [a for a in countries if 'min' not in a]\n",
    "# print(len(countries))\n",
    "# countries = [a for a in countries if 'yi' not in a]\n",
    "# print(len(countries))\n",
    "# countries = [a for a in countries if 'azb' not in a]\n",
    "# print(len(countries))\n",
    "# countries = [a for a in countries if 'ka' not in a]\n",
    "# print(len(countries))\n",
    "# countries = [a for a in countries if 'su' not in a]\n",
    "# print(len(countries))\n",
    "\n",
    "# countries = [a for a in countries if 'hak' not in a]\n",
    "# print(len(countries))\n",
    "# countries = [a for a in countries if 'gv' not in a]\n",
    "# print(len(countries))\n",
    "# countries = [a for a in countries if 'gu' not in a]\n",
    "# print(len(countries))\n",
    "# countries = [a for a in countries if 'nov' not in a]\n",
    "# print(len(countries))\n",
    "# countries = [a for a in countries if 'fi' not in a]\n",
    "# print(len(countries))\n",
    "# countries = [a for a in countries if 'nrf' not in a]\n",
    "# print(len(countries))\n",
    "# countries = [a for a in countries if 'uz' not in a]\n",
    "# print(len(countries))\n",
    "# countries = [a for a in countries if 'vep' not in a]\n",
    "# print(len(countries))\n",
    "# countries = [a for a in countries if 'cv' not in a]\n",
    "# print(len(countries))\n",
    "# countries = [a for a in countries if 'dv' not in a]\n",
    "# print(len(countries))\n",
    "# countries = [a for a in countries if 'diq' not in a]\n",
    "# print(len(countries))\n",
    "\n",
    "\n",
    "# countries = [a for a in countries if 'ro' not in a]\n",
    "# print(len(countries))\n",
    "# countries = [a for a in countries if 'krc' not in a]\n",
    "# print(len(countries))\n",
    "# countries = [a for a in countries if 'is' not in a]\n",
    "# print(len(countries))\n",
    "# countries = [a for a in countries if 'km' not in a]\n",
    "# print(len(countries))\n",
    "# countries = [a for a in countries if 'ki' not in a]\n",
    "# print(len(countries))\n",
    "# countries = [a for a in countries if 'jv' not in a]\n",
    "# print(len(countries))\n",
    "# countries = [a for a in countries if 'kk' not in a]\n",
    "# print(len(countries))\n",
    "# countries = [a for a in countries if 'eu' not in a]\n",
    "# print(len(countries))\n",
    "# countries = [a for a in countries if 'nds' not in a]\n",
    "# print(len(countries))\n",
    "# countries = [a for a in countries if 'br' not in a]\n",
    "# print(len(countries))\n",
    "# countries = [a for a in countries if 'mzn' not in a]\n",
    "# print(len(countries))\n",
    "\n",
    "\n",
    "# countries = [a for a in countries if 'bs' not in a]\n",
    "# print(len(countries))\n",
    "# countries = [a for a in countries if 'cdo' not in a]\n",
    "# print(len(countries))\n",
    "# countries = [a for a in countries if 'sh' not in a]\n",
    "# print(len(countries))\n",
    "# countries = [a for a in countries if 'szl' not in a]\n",
    "# print(len(countries))\n",
    "# countries = [a for a in countries if 'co' not in a]\n",
    "# print(len(countries))\n",
    "# countries = [a for a in countries if 'ls' not in a]\n",
    "# print(len(countries))\n",
    "# countries = [a for a in countries if 'bj' not in a]\n",
    "# print(len(countries))\n",
    "# countries = [a for a in countries if 'no' not in a] #ignore\n",
    "# print(len(countries))\n",
    "# countries = [a for a in countries if 'io' not in a]\n",
    "# print(len(countries))\n",
    "# countries = [a for a in countries if 'so' not in a]\n",
    "# print(len(countries))\n",
    "# countries = [a for a in countries if 'ha' not in a]\n",
    "# print(len(countries))"
   ]
  }
 ],
 "metadata": {
  "kernelspec": {
   "display_name": "ir",
   "language": "python",
   "name": "ir"
  },
  "language_info": {
   "codemirror_mode": {
    "name": "ipython",
    "version": 3
   },
   "file_extension": ".py",
   "mimetype": "text/x-python",
   "name": "python",
   "nbconvert_exporter": "python",
   "pygments_lexer": "ipython3",
   "version": "3.8.5"
  }
 },
 "nbformat": 4,
 "nbformat_minor": 4
}
